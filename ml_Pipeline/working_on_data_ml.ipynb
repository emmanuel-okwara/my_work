{
 "metadata": {
  "language_info": {
   "codemirror_mode": {
    "name": "ipython",
    "version": 3
   },
   "file_extension": ".py",
   "mimetype": "text/x-python",
   "name": "python",
   "nbconvert_exporter": "python",
   "pygments_lexer": "ipython3",
   "version": "3.9.1-final"
  },
  "orig_nbformat": 2,
  "kernelspec": {
   "name": "python3",
   "display_name": "Python 3.9.1 64-bit",
   "metadata": {
    "interpreter": {
     "hash": "25f43fd112255e839c557ebe80c863ca24337584298031f391a0d9d126a448a1"
    }
   }
  }
 },
 "nbformat": 4,
 "nbformat_minor": 2,
 "cells": [
  {
   "cell_type": "code",
   "execution_count": null,
   "metadata": {},
   "outputs": [],
   "source": [
    "from sklearn.compose import ColumnTransformer\n",
    "from sklearn.pipeline import Pipeline\n",
    "from sklearn.impute import SimpleImputer\n",
    "from sklearn.preprocessing import OneHotEncoder \n",
    "from sklearn.model_selection import train_test_split\n",
    "from sklearn.ensemble import RandomForestRegressor\n",
    "import pandas as pd\n",
    "from sklearn.metrics import mean_absolute_error\n",
    "\n",
    "\n",
    "\n",
    "# data_location\n",
    "\n",
    "file_location = './USvideos.csv'\n",
    "data = pd.read_csv(file_location)\n",
    "\n",
    "#chosing features you want\n",
    "features = ['video_id', 'trending_date', 'title', 'channel_title', 'category_id',\n",
    "       'publish_time', 'tags', 'views', 'dislikes', 'comment_count']\n",
    "x_new_data = data[features]\n",
    "y_data = data.likes\n",
    "\n",
    "#destributing the data into training and testing\n",
    "x_train,x_test,y_train,y_test = train_test_split(x_new_data,y_data,train_size=0.8,test_size=0.2)\n",
    "\n",
    "\n",
    "\n"
   ]
  },
  {
   "cell_type": "code",
   "execution_count": 20,
   "metadata": {},
   "outputs": [
    {
     "output_type": "stream",
     "name": "stdout",
     "text": [
      "['category_id', 'views', 'dislikes', 'comment_count']\n"
     ]
    }
   ],
   "source": [
    "#columns that are objects and numerical\n",
    "object_cols = [col for col in x_train.columns if x_train[col].dtype == 'object']\n",
    "numerical_cols =[col for col in x_train.columns if x_train[col].dtype in ['int64','float64']]\n",
    "\n",
    "print(numerical_cols)"
   ]
  },
  {
   "cell_type": "code",
   "execution_count": 3,
   "metadata": {},
   "outputs": [
    {
     "output_type": "error",
     "ename": "NameError",
     "evalue": "name 'numerical_cols' is not defined",
     "traceback": [
      "\u001b[1;31m---------------------------------------------------------------------------\u001b[0m",
      "\u001b[1;31mNameError\u001b[0m                                 Traceback (most recent call last)",
      "\u001b[1;32m<ipython-input-3-0276f8e10c51>\u001b[0m in \u001b[0;36m<module>\u001b[1;34m\u001b[0m\n\u001b[0;32m      5\u001b[0m \u001b[1;33m\u001b[0m\u001b[0m\n\u001b[0;32m      6\u001b[0m \u001b[1;33m\u001b[0m\u001b[0m\n\u001b[1;32m----> 7\u001b[1;33m \u001b[0mpreprocessor\u001b[0m \u001b[1;33m=\u001b[0m \u001b[0mColumnTransformer\u001b[0m\u001b[1;33m(\u001b[0m\u001b[0mtransformers\u001b[0m\u001b[1;33m=\u001b[0m\u001b[1;33m[\u001b[0m\u001b[1;33m(\u001b[0m\u001b[1;34m'num'\u001b[0m\u001b[1;33m,\u001b[0m\u001b[0mnumeriacal_transformer\u001b[0m\u001b[1;33m,\u001b[0m\u001b[0mnumerical_cols\u001b[0m\u001b[1;33m)\u001b[0m\u001b[1;33m,\u001b[0m\u001b[1;33m(\u001b[0m\u001b[1;34m'cat'\u001b[0m\u001b[1;33m,\u001b[0m\u001b[0mcategorical_transformer\u001b[0m\u001b[1;33m,\u001b[0m\u001b[0mobject_cols\u001b[0m\u001b[1;33m)\u001b[0m\u001b[1;33m]\u001b[0m\u001b[1;33m)\u001b[0m\u001b[1;33m\u001b[0m\u001b[1;33m\u001b[0m\u001b[0m\n\u001b[0m\u001b[0;32m      8\u001b[0m \u001b[1;33m\u001b[0m\u001b[0m\n\u001b[0;32m      9\u001b[0m \u001b[0mmodel\u001b[0m \u001b[1;33m=\u001b[0m \u001b[0mRandomForestRegressor\u001b[0m\u001b[1;33m(\u001b[0m\u001b[0mrandom_state\u001b[0m\u001b[1;33m=\u001b[0m\u001b[1;36m0\u001b[0m\u001b[1;33m)\u001b[0m\u001b[1;33m\u001b[0m\u001b[1;33m\u001b[0m\u001b[0m\n",
      "\u001b[1;31mNameError\u001b[0m: name 'numerical_cols' is not defined"
     ]
    }
   ],
   "source": [
    "#building the transformers\n",
    "\n",
    "numeriacal_transformer = SimpleImputer(strategy='constant')\n",
    "categorical_transformer = Pipeline(steps=[('imputer',SimpleImputer(strategy='most_frequent')),('OneHot',OneHotEncoder(handle_unknown='ignore'))])\n",
    "\n",
    "\n",
    "preprocessor = ColumnTransformer(transformers=[('num',numeriacal_transformer,numerical_cols),('cat',categorical_transformer,object_cols)])\n",
    "\n",
    "model = RandomForestRegressor(random_state=0)\n",
    "\n",
    "pm = Pipeline(steps=[('preprocessor',preprocessor),('model',model)])\n",
    "\n",
    "pm.fit(x_train,y_train)\n",
    "w = pm.predict(x_test)\n",
    "\n",
    "print(w)\n",
    "\n",
    "print(mean_absolute_error(W,y_test))\n",
    "\n",
    "\n"
   ]
  },
  {
   "cell_type": "code",
   "execution_count": null,
   "metadata": {},
   "outputs": [],
   "source": []
  }
 ]
}