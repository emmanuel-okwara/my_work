{
 "metadata": {
  "language_info": {
   "codemirror_mode": {
    "name": "ipython",
    "version": 3
   },
   "file_extension": ".py",
   "mimetype": "text/x-python",
   "name": "python",
   "nbconvert_exporter": "python",
   "pygments_lexer": "ipython3",
   "version": "3.9.1-final"
  },
  "orig_nbformat": 2,
  "kernelspec": {
   "name": "python3",
   "display_name": "Python 3.9.1 64-bit",
   "metadata": {
    "interpreter": {
     "hash": "25f43fd112255e839c557ebe80c863ca24337584298031f391a0d9d126a448a1"
    }
   }
  }
 },
 "nbformat": 4,
 "nbformat_minor": 2,
 "cells": [
  {
   "cell_type": "code",
   "execution_count": 6,
   "metadata": {},
   "outputs": [
    {
     "output_type": "stream",
     "name": "stdout",
     "text": [
      "98 [0, 2, 3, 6, 7, 8, 9, 11, 12, 13, 13, 15, 15, 15, 16, 17, 18, 19, 21, 22, 23, 23, 25, 26, 28, 29, 29, 30, 31, 31, 32, 32, 35, 36, 37, 37, 37, 40, 40, 41, 43, 43, 44, 47, 48, 49, 49, 49, 50, 50, 52, 53, 53, 54, 55, 56, 57, 59, 61, 62, 63, 64, 64, 65, 67, 69, 69, 71, 71, 72, 73, 74, 75, 75, 76, 77, 80, 80, 81, 83, 84, 84, 84, 86, 86, 87, 88, 88, 91, 93, 93, 94, 95, 96, 97, 97, 98, 99, 101, 103]\n"
     ]
    }
   ],
   "source": [
    "#more on modules\n",
    "#returns the index of a certain digit in an assumed list\n",
    "from _bisect import *\n",
    "from random import randint\n",
    "\n",
    "\n",
    "lst = [randint(x,x+5) for x in range(100)]\n",
    "s_l = sorted(lst)\n",
    "print(bisect_right(s_l,99),s_l)"
   ]
  },
  {
   "cell_type": "code",
   "execution_count": 7,
   "metadata": {},
   "outputs": [
    {
     "output_type": "execute_result",
     "data": {
      "text/plain": [
       "'\\nabs(a)\\nSame as abs(a).\\n\\nadd(a, b, /)\\nSame as a + b.\\n\\nand_(a, b, /)\\nSame as a & b.\\n\\nconcat(a, b, /)\\nSame as a + b, for a and b sequences.\\n\\ncontains(a, b, /)\\nSame as b in a (note reversed operands).\\n\\ncountOf(a, b, /)\\nReturn the number of times b occurs in a.\\n\\ndelitem(a, b, /)\\nSame as del a[b].\\n\\neq(a, b, /)\\nSame as a == b.\\n\\nfloordiv(a, b, /)\\nSame as a // b.\\n\\nge(a, b, /)\\nSame as a >= b.\\n\\ngetitem(a, b, /)\\nSame as a[b].\\n\\ngt(a, b, /)\\nSame as a > b.\\n\\niadd(a, b, /)\\nSame as a += b.\\n\\niand(a, b, /)\\nSame as a &= b.\\n\\niconcat(a, b, /)\\nSame as a += b, for a and b sequences.\\n\\nifloordiv(a, b, /)\\nSame as a //= b.\\n\\nilshift(a, b, /)\\nSame as a <<= b.\\n\\nimatmul(a, b, /)\\nSame as a @= b.\\n\\nimod(a, b, /)\\nSame as a %= b.\\n\\nimul(a, b, /)\\nSame as a *= b.\\n\\nindex(a, /)\\nSame as a.__index__()\\n\\nindexOf(a, b, /)\\nReturn the first index of b in a.\\n\\ninv(a, /)\\nSame as ~a.\\n\\ninvert(a, /)\\nSame as ~a.\\n\\nior(a, b, /)\\nSame as a |= b.\\n\\nipow(a, b, /)\\nSame as a **= b.\\n\\nirshift(a, b, /)\\nSame as a >>= b.\\n\\nis_(a, b, /)\\nSame as a is b.\\n\\nis_not(a, b, /)\\nSame as a is not b.\\n\\nisub(a, b, /)\\nSame as a -= b.\\n\\nitruediv(a, b, /)\\nSame as a /= b.\\n\\nixor(a, b, /)\\nSame as a ^= b.\\n\\nle(a, b, /)\\nSame as a <= b.\\n\\nlength_hint(obj, default=0, /)\\nReturn an estimate of the number of items in obj.\\n \\nThis is useful for presizing containers when building from an iterable.\\n \\nIf the object supports len(), the result will be exact.\\nOtherwise, it may over- or under-estimate by an arbitrary amount.\\nThe result will be an integer >= 0.\\nlshift(a, b, /)\\nSame as a << b.\\n\\nlt(a, b, /)\\nSame as a < b.\\n\\nmatmul(a, b, /)\\nSame as a @ b.\\n\\nmod(a, b, /)\\nSame as a % b.\\n\\nmul(a, b, /)\\nSame as a * b.\\n\\nne(a, b, /)\\nSame as a != b.\\n\\nneg(a, /)\\nSame as -a.\\n\\nnot_(a, /)\\nSame as not a.\\n\\nor_(a, b, /)\\nSame as a | b.\\n\\npos(a, /)\\nSame as +a.\\n\\npow(a, b, /)\\nSame as a ** b.\\n\\nrshift(a, b, /)\\nSame as a >> b.\\n\\nsetitem(a, b, c, /)\\nSame as a[b] = c.\\n\\nsub(a, b, /)\\nSame as a - b.\\n\\ntruediv(a, b, /)\\nSame as a / b.\\n\\ntruth(a, /)\\nReturn True if a is true, False otherwise.\\n\\nxor(a, b, /)\\nSame as a ^ b.'"
      ]
     },
     "metadata": {},
     "execution_count": 7
    }
   ],
   "source": [
    "from _operator import *\n",
    " #this is the operator module \n",
    " # these are the functionsabs(a, /)\n",
    "'''\n",
    "abs(a)\n",
    "Same as abs(a).\n",
    "\n",
    "add(a, b, /)\n",
    "Same as a + b.\n",
    "\n",
    "and_(a, b, /)\n",
    "Same as a & b.\n",
    "\n",
    "concat(a, b, /)\n",
    "Same as a + b, for a and b sequences.\n",
    "\n",
    "contains(a, b, /)\n",
    "Same as b in a (note reversed operands).\n",
    "\n",
    "countOf(a, b, /)\n",
    "Return the number of times b occurs in a.\n",
    "\n",
    "delitem(a, b, /)\n",
    "Same as del a[b].\n",
    "\n",
    "eq(a, b, /)\n",
    "Same as a == b.\n",
    "\n",
    "floordiv(a, b, /)\n",
    "Same as a // b.\n",
    "\n",
    "ge(a, b, /)\n",
    "Same as a >= b.\n",
    "\n",
    "getitem(a, b, /)\n",
    "Same as a[b].\n",
    "\n",
    "gt(a, b, /)\n",
    "Same as a > b.\n",
    "\n",
    "iadd(a, b, /)\n",
    "Same as a += b.\n",
    "\n",
    "iand(a, b, /)\n",
    "Same as a &= b.\n",
    "\n",
    "iconcat(a, b, /)\n",
    "Same as a += b, for a and b sequences.\n",
    "\n",
    "ifloordiv(a, b, /)\n",
    "Same as a //= b.\n",
    "\n",
    "ilshift(a, b, /)\n",
    "Same as a <<= b.\n",
    "\n",
    "imatmul(a, b, /)\n",
    "Same as a @= b.\n",
    "\n",
    "imod(a, b, /)\n",
    "Same as a %= b.\n",
    "\n",
    "imul(a, b, /)\n",
    "Same as a *= b.\n",
    "\n",
    "index(a, /)\n",
    "Same as a.__index__()\n",
    "\n",
    "indexOf(a, b, /)\n",
    "Return the first index of b in a.\n",
    "\n",
    "inv(a, /)\n",
    "Same as ~a.\n",
    "\n",
    "invert(a, /)\n",
    "Same as ~a.\n",
    "\n",
    "ior(a, b, /)\n",
    "Same as a |= b.\n",
    "\n",
    "ipow(a, b, /)\n",
    "Same as a **= b.\n",
    "\n",
    "irshift(a, b, /)\n",
    "Same as a >>= b.\n",
    "\n",
    "is_(a, b, /)\n",
    "Same as a is b.\n",
    "\n",
    "is_not(a, b, /)\n",
    "Same as a is not b.\n",
    "\n",
    "isub(a, b, /)\n",
    "Same as a -= b.\n",
    "\n",
    "itruediv(a, b, /)\n",
    "Same as a /= b.\n",
    "\n",
    "ixor(a, b, /)\n",
    "Same as a ^= b.\n",
    "\n",
    "le(a, b, /)\n",
    "Same as a <= b.\n",
    "\n",
    "length_hint(obj, default=0, /)\n",
    "Return an estimate of the number of items in obj.\n",
    " \n",
    "This is useful for presizing containers when building from an iterable.\n",
    " \n",
    "If the object supports len(), the result will be exact.\n",
    "Otherwise, it may over- or under-estimate by an arbitrary amount.\n",
    "The result will be an integer >= 0.\n",
    "lshift(a, b, /)\n",
    "Same as a << b.\n",
    "\n",
    "lt(a, b, /)\n",
    "Same as a < b.\n",
    "\n",
    "matmul(a, b, /)\n",
    "Same as a @ b.\n",
    "\n",
    "mod(a, b, /)\n",
    "Same as a % b.\n",
    "\n",
    "mul(a, b, /)\n",
    "Same as a * b.\n",
    "\n",
    "ne(a, b, /)\n",
    "Same as a != b.\n",
    "\n",
    "neg(a, /)\n",
    "Same as -a.\n",
    "\n",
    "not_(a, /)\n",
    "Same as not a.\n",
    "\n",
    "or_(a, b, /)\n",
    "Same as a | b.\n",
    "\n",
    "pos(a, /)\n",
    "Same as +a.\n",
    "\n",
    "pow(a, b, /)\n",
    "Same as a ** b.\n",
    "\n",
    "rshift(a, b, /)\n",
    "Same as a >> b.\n",
    "\n",
    "setitem(a, b, c, /)\n",
    "Same as a[b] = c.\n",
    "\n",
    "sub(a, b, /)\n",
    "Same as a - b.\n",
    "\n",
    "truediv(a, b, /)\n",
    "Same as a / b.\n",
    "\n",
    "truth(a, /)\n",
    "Return True if a is true, False otherwise.\n",
    "\n",
    "xor(a, b, /)\n",
    "Same as a ^ b.'''\n",
    "\n",
    " \n"
   ]
  },
  {
   "cell_type": "code",
   "execution_count": 9,
   "metadata": {},
   "outputs": [
    {
     "output_type": "stream",
     "name": "stdout",
     "text": [
      "['Calendar', 'EPOCH', 'FRIDAY', 'February', 'HTMLCalendar', 'IllegalMonthError', 'IllegalWeekdayError', 'January', 'LocaleHTMLCalendar', 'LocaleTextCalendar', 'MONDAY', 'SATURDAY', 'SUNDAY', 'THURSDAY', 'TUESDAY', 'TextCalendar', 'WEDNESDAY', '_EPOCH_ORD', '__all__', '__builtins__', '__cached__', '__doc__', '__file__', '__loader__', '__name__', '__package__', '__spec__', '_colwidth', '_locale', '_localized_day', '_localized_month', '_monthlen', '_nextmonth', '_prevmonth', '_spacing', 'c', 'calendar', 'datetime', 'day_abbr', 'day_name', 'different_locale', 'error', 'firstweekday', 'format', 'formatstring', 'isleap', 'leapdays', 'main', 'mdays', 'month', 'month_abbr', 'month_name', 'monthcalendar', 'monthrange', 'prcal', 'prmonth', 'prweek', 'repeat', 'setfirstweekday', 'sys', 'timegm', 'week', 'weekday', 'weekheader']\n"
     ]
    }
   ],
   "source": [
    "import calendar\n",
    "print(dir(calendar))"
   ]
  },
  {
   "cell_type": "code",
   "execution_count": null,
   "metadata": {},
   "outputs": [],
   "source": [
    "import colorsys"
   ]
  },
  {
   "cell_type": "code",
   "execution_count": null,
   "metadata": {},
   "outputs": [],
   "source": []
  }
 ]
}