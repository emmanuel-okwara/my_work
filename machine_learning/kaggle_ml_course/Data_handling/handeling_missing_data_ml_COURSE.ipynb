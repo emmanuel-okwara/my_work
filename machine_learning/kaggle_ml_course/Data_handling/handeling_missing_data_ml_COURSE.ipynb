{
 "metadata": {
  "language_info": {
   "codemirror_mode": {
    "name": "ipython",
    "version": 3
   },
   "file_extension": ".py",
   "mimetype": "text/x-python",
   "name": "python",
   "nbconvert_exporter": "python",
   "pygments_lexer": "ipython3",
   "version": "3.9.1-final"
  },
  "orig_nbformat": 2,
  "kernelspec": {
   "name": "python3",
   "display_name": "Python 3.9.1 64-bit",
   "metadata": {
    "interpreter": {
     "hash": "1e137d57bbe8b21aead32243cef5b3634f0f986d9a4d4c0f65dc1fd0f7137e9c"
    }
   }
  }
 },
 "nbformat": 4,
 "nbformat_minor": 2,
 "cells": [
  {
   "cell_type": "code",
   "execution_count": null,
   "metadata": {},
   "outputs": [],
   "source": [
    "# submitting data to kaggle \n",
    "# OUTPUTS = pd.DataFrame({'id':test_data.Id,\"Predictions\":model.predict(test_data)})\n",
    "# OUTPUTS.to_csv('submission.csv',index=False)\n",
    "#   ------- This is how data is submitted ------- #\n",
    "\n",
    "\n"
   ]
  },
  {
   "cell_type": "code",
   "execution_count": null,
   "metadata": {},
   "outputs": [],
   "source": [
    "#working with missing data in a dataset \n",
    "'''\n",
    "    there are three approches to working with missing data.\n",
    "****the first option is to drop the column that contains the missing data but his method is a bit extreme and may cause your model to be less accurate.\n",
    "****** The second_option is called imputation which is when you replace the values with the mean value along each column.the  imputed values won't be accurate ,but it usually leads to more accurate models than you would get from droppinbg the column\n",
    "\n",
    "******* The third option is an extention to imputation . in this approach we impute the missing values, as before. And, additionally, for each column with missing entries in the original dataset, we add a new column that shows the location of the imputed entries.\n",
    "'''\n"
   ]
  },
  {
   "cell_type": "code",
   "execution_count": 1,
   "metadata": {},
   "outputs": [
    {
     "output_type": "execute_result",
     "data": {
      "text/plain": [
       "'# Get names of columns with missing values\\ncols_with_missing = [col for col in X_train.columns\\n                     if X_train[col].isnull().any()] #condition that finds columns with missing values\\n\\n# Drop columns in training and validation data\\nreduced_X_train = X_train.drop(cols_with_missing, axis=1)\\nreduced_X_valid = X_valid.drop(cols_with_missing, axis=1)\\nprint(\"MAE from Approach 1 (Drop columns with missing values):\")\\nprint(score_dataset(reduced_X_train, reduced_X_valid, y_train, y_valid))\\n'"
      ]
     },
     "metadata": {},
     "execution_count": 1
    }
   ],
   "source": [
    "'''# Get names of columns with missing values\n",
    "cols_with_missing = [col for col in X_train.columns\n",
    "                     if X_train[col].isnull().any()] #condition that finds columns with missing values\n",
    "\n",
    "# Drop columns in training and validation data\n",
    "reduced_X_train = X_train.drop(cols_with_missing, axis=1)\n",
    "reduced_X_valid = X_valid.drop(cols_with_missing, axis=1)\n",
    "print(\"MAE from Approach 1 (Drop columns with missing values):\")\n",
    "print(score_dataset(reduced_X_train, reduced_X_valid, y_train, y_valid))\n",
    "'''"
   ]
  },
  {
   "cell_type": "code",
   "execution_count": 2,
   "metadata": {},
   "outputs": [
    {
     "output_type": "execute_result",
     "data": {
      "text/plain": [
       "'from sklearn.impute import SimpleImputer\\n\\n# Imputation\\nmy_imputer = SimpleImputer()\\nimputed_X_train = pd.DataFrame(my_imputer.fit_transform(X_train))\\nimputed_X_valid = pd.DataFrame(my_imputer.transform(X_valid))\\n\\n# Imputation removed column names; put them back\\nimputed_X_train.columns = X_train.columns\\nimputed_X_valid.columns = X_valid.columns\\n\\nprint(\"MAE from Approach 2 (Imputation):\")\\nprint(score_dataset(imputed_X_train, imputed_X_valid, y_train, y_valid))\\n\\n#imputation removes the columns\\n'"
      ]
     },
     "metadata": {},
     "execution_count": 2
    }
   ],
   "source": [
    "'''from sklearn.impute import SimpleImputer\n",
    "\n",
    "# Imputation\n",
    "my_imputer = SimpleImputer()\n",
    "imputed_X_train = pd.DataFrame(my_imputer.fit_transform(X_train))\n",
    "imputed_X_valid = pd.DataFrame(my_imputer.transform(X_valid))\n",
    "\n",
    "# Imputation removed column names; put them back\n",
    "imputed_X_train.columns = X_train.columns\n",
    "imputed_X_valid.columns = X_valid.columns\n",
    "\n",
    "print(\"MAE from Approach 2 (Imputation):\")\n",
    "print(score_dataset(imputed_X_train, imputed_X_valid, y_train, y_valid))\n",
    "\n",
    "#imputation removes the columns\n",
    "'''"
   ]
  }
 ]
}