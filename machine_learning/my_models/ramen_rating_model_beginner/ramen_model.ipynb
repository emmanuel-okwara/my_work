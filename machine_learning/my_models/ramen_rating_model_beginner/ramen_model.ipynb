{
 "metadata": {
  "language_info": {
   "codemirror_mode": {
    "name": "ipython",
    "version": 3
   },
   "file_extension": ".py",
   "mimetype": "text/x-python",
   "name": "python",
   "nbconvert_exporter": "python",
   "pygments_lexer": "ipython3",
   "version": 3
  },
  "orig_nbformat": 2
 },
 "nbformat": 4,
 "nbformat_minor": 2,
 "cells": [
  {
   "cell_type": "code",
   "execution_count": null,
   "metadata": {},
   "outputs": [],
   "source": [
    "from sklearn.ensemble import RandomForestRegressor\n",
    "from sklearn.Pipeline import Pipeline\n",
    "from sklearn.model_selection import train_test_split\n",
    "from sklearn.metrics import mean_absolute_error\n",
    "from sklearn.compose import ColumnTransformer \n",
    "from sklearn.impute import SimpleImputer\n",
    "from sklearn.Preprocesssing import OneHotEncoder\n",
    "import pandas as pd\n",
    "\n",
    "\n",
    "file_location = 'ramen-ratings.csv'\n",
    "\n",
    "file_data = pd.read_csv(file_location)\n",
    "\n",
    "\n",
    "\n",
    "\n"
   ]
  }
 ]
}