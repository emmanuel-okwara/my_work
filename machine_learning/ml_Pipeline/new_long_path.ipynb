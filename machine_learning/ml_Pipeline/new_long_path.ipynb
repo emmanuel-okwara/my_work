{
 "metadata": {
  "language_info": {
   "codemirror_mode": {
    "name": "ipython",
    "version": 3
   },
   "file_extension": ".py",
   "mimetype": "text/x-python",
   "name": "python",
   "nbconvert_exporter": "python",
   "pygments_lexer": "ipython3",
   "version": "3.9.1-final"
  },
  "orig_nbformat": 2,
  "kernelspec": {
   "name": "python3",
   "display_name": "Python 3.9.1 64-bit",
   "metadata": {
    "interpreter": {
     "hash": "25f43fd112255e839c557ebe80c863ca24337584298031f391a0d9d126a448a1"
    }
   }
  }
 },
 "nbformat": 4,
 "nbformat_minor": 2,
 "cells": [
  {
   "cell_type": "code",
   "execution_count": 74,
   "metadata": {},
   "outputs": [],
   "source": [
    "#this is the longer war \n",
    "from sklearn.ensemble import RandomForestRegressor\n",
    "from sklearn.impute import SimpleImputer\n",
    "from sklearn.pipeline import Pipeline\n",
    "from sklearn.preprocessing  import LabelEncoder\n",
    "from sklearn.preprocessing import OneHotEncoder\n",
    "from sklearn.model_selection import train_test_split\n",
    "import pandas as pd\n",
    "\n"
   ]
  },
  {
   "cell_type": "code",
   "execution_count": 75,
   "metadata": {},
   "outputs": [],
   "source": [
    "#reading the data from its location and interpreting the data\n",
    "\n",
    "file_location = './USvideos.csv'\n",
    "data = pd.read_csv(file_location)\n",
    "\n",
    "features = ['video_id', 'trending_date', 'title', 'channel_title', 'category_id',\n",
    "       'publish_time', 'tags', 'views', 'likes','dislikes', 'comment_count']"
   ]
  },
  {
   "cell_type": "code",
   "execution_count": 80,
   "metadata": {},
   "outputs": [
    {
     "output_type": "stream",
     "name": "stdout",
     "text": [
      "['category_id', 'views', 'likes', 'dislikes', 'comment_count'] ['video_id', 'trending_date', 'title', 'channel_title', 'publish_time', 'tags']\n"
     ]
    }
   ],
   "source": [
    "#splitting the data into two parts numeric data and catergorical data\n",
    "\n",
    "cat_columns = [col for col in data[features].columns if data[features][col].dtype == 'object']\n",
    "numeric_cols = [col for col in data[features].columns if data[features][col].dtype in ['int64','float64']]\n",
    "\n",
    "numeric_data = data[numeric_cols]\n",
    "cat_data = data[cat_columns]\n",
    "print(numeric_cols,cat_columns)\n"
   ]
  },
  {
   "cell_type": "code",
   "execution_count": 81,
   "metadata": {},
   "outputs": [
    {
     "output_type": "stream",
     "name": "stdout",
     "text": [
      "RangeIndex(start=0, stop=1, step=1)\n"
     ]
    }
   ],
   "source": [
    "#now i will be transforming the data  and cleaning it\n",
    "\n",
    "#numerical data\n",
    "imputer = SimpleImputer(strategy= 'mean')\n",
    "\n",
    "\n",
    "new_n_data = pd.DataFrame(imputer.fit_transform(numeric_data))\n",
    "new_n_data.columns = numeric_data.columns\n",
    "\n",
    "\n",
    "# for the cat_data\n",
    "\n",
    "encoder = OneHotEncoder(handle_unknown='ignore',sparse='False')\n",
    "new_c_data = pd.DataFrame(encoder.fit_transform(cat_data))\n",
    "new_c_data.index= cat_data.index\n",
    "print(new_c_data.columns)\n"
   ]
  },
  {
   "cell_type": "code",
   "execution_count": 82,
   "metadata": {},
   "outputs": [],
   "source": [
    "X_data = new_n_data.join(new_c_data)\n",
    "#print(X_data)"
   ]
  },
  {
   "cell_type": "code",
   "execution_count": 85,
   "metadata": {},
   "outputs": [
    {
     "output_type": "stream",
     "name": "stdout",
     "text": [
      "0         57527.0\n1         97185.0\n2        146033.0\n3         10172.0\n4        132235.0\n           ...   \n40944     38160.0\n40945     60008.0\n40946     48068.0\n40947    192957.0\n40948    357079.0\nName: likes, Length: 40949, dtype: float64\n"
     ]
    }
   ],
   "source": [
    "#defining my training and testing data\n",
    "\n",
    "Y = X_data.likes\n",
    "X = X_data.drop('likes',axis = 1)\n",
    "print(Y)\n",
    "\n",
    "#x_train,x_test,y_train,y_test=train_test_split(X,Y,train_size=0.8,test_size=0.2)\n",
    "\n",
    "#model = RandomForestRegressor(random_state= 1)\n",
    "#model.fit(x_train,y_train)\n",
    "#preds =  model.predict(x_test)"
   ]
  },
  {
   "cell_type": "code",
   "execution_count": null,
   "metadata": {},
   "outputs": [],
   "source": []
  }
 ]
}