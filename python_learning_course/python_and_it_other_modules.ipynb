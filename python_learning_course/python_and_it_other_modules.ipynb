{
 "metadata": {
  "language_info": {
   "codemirror_mode": {
    "name": "ipython",
    "version": 3
   },
   "file_extension": ".py",
   "mimetype": "text/x-python",
   "name": "python",
   "nbconvert_exporter": "python",
   "pygments_lexer": "ipython3",
   "version": "3.9.1-final"
  },
  "orig_nbformat": 2,
  "kernelspec": {
   "name": "python3",
   "display_name": "Python 3.9.1 64-bit",
   "metadata": {
    "interpreter": {
     "hash": "25f43fd112255e839c557ebe80c863ca24337584298031f391a0d9d126a448a1"
    }
   }
  }
 },
 "nbformat": 4,
 "nbformat_minor": 2,
 "cells": [
  {
   "cell_type": "code",
   "execution_count": 11,
   "metadata": {},
   "outputs": [],
   "source": [
    "import sys\n",
    "import math\n",
    "import statistics #this is the statistic module\n",
    "#sys.stdout.write('hello_world\\n')\n",
    "#sys.stderr.write('This is an error code\\n')\n",
    "#sys.stderr.flush()\n",
    "\n",
    "#hello = sys.argv\n",
    "\n"
   ]
  },
  {
   "cell_type": "code",
   "execution_count": 14,
   "metadata": {},
   "outputs": [
    {
     "output_type": "stream",
     "name": "stdout",
     "text": [
      "\n"
     ]
    }
   ],
   "source": [
    "#sys_methods_or_functions\n",
    "\n",
    "#get_the systems size\n",
    "sys.maxsize\n",
    "\n",
    "#This is an environment variable that is a search path for all Python modules.\n",
    "sys.path\n",
    "\n",
    "dir(math)\n",
    "dir(statistics)\n",
    "print()\n"
   ]
  },
  {
   "cell_type": "code",
   "execution_count": null,
   "metadata": {},
   "outputs": [],
   "source": []
  }
 ]
}